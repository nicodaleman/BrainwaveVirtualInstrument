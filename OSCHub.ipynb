{
 "cells": [
  {
   "cell_type": "code",
   "execution_count": 4,
   "metadata": {},
   "outputs": [],
   "source": [
    "import numpy as np\n",
    "import pandas as pd\n",
    "import os\n",
    "import time\n",
    "import pythonosc"
   ]
  },
  {
   "cell_type": "code",
   "execution_count": null,
   "metadata": {},
   "outputs": [],
   "source": [
    "eeg_data = pd.read_csv('rec02.csv', delimiter=\";\", decimal=\",\")\n",
    "eeg_data=eeg_data.astype(float)\n",
    "eeg_data_clean = eeg_data.drop(eeg_data.columns[8:], axis=1)\n",
    "\n",
    "ip = \"127.0.0.1\"\n",
    "port = 5510 #'faust default'\n",
    "client = SimpleUDPClient(ip, port)  # Create client\n",
    "\n",
    "for i in range(eeg_data_clean.shape[0]):\n",
    "    row = eeg_data_clean.iloc[i,:].values #prints row as array\n",
    "    time.sleep(1) #delay\n",
    "    for j in range(len(row)):\n",
    "        msg = \"/BrainwaveInstrument/Synth/Channel_%d/modFreq\" % (j+1) #reads each value of a row and creates osc message with that value\n",
    "        client.send_message(msg, row[j])"
   ]
  },
  {
   "cell_type": "code",
   "execution_count": null,
   "metadata": {},
   "outputs": [],
   "source": []
  }
 ],
 "metadata": {
  "kernelspec": {
   "display_name": "Python 3",
   "language": "python",
   "name": "python3"
  },
  "language_info": {
   "codemirror_mode": {
    "name": "ipython",
    "version": 3
   },
   "file_extension": ".py",
   "mimetype": "text/x-python",
   "name": "python",
   "nbconvert_exporter": "python",
   "pygments_lexer": "ipython3",
   "version": "3.8.3"
  }
 },
 "nbformat": 4,
 "nbformat_minor": 4
}
