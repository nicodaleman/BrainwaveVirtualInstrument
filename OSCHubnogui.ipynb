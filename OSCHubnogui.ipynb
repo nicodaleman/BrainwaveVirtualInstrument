{
 "cells": [
  {
   "cell_type": "code",
   "execution_count": null,
   "metadata": {},
   "outputs": [],
   "source": [
    "import numpy as np\n",
    "import pandas as pd\n",
    "import os\n",
    "import time\n",
    "from pythonosc import udp_client\n",
    "from pythonosc.udp_client import SimpleUDPClient"
   ]
  },
  {
   "cell_type": "code",
   "execution_count": null,
   "metadata": {},
   "outputs": [],
   "source": [
    "eeg_data = pd.read_csv('rec01.csv', delimiter=\",\", decimal=\".\")\n",
    "eeg_data = eeg_data.astype(float)\n",
    "#eeg_data_clean = eeg_data.drop(eeg_data.index[0:1])\n",
    "#eeg_data_clean = eeg_data.drop('timestamps', axis=1)\n",
    "#eeg_data_clean = eeg_data.drop('Right AUX', axis=1)\n",
    "print (eeg_data.shape)\n",
    "\n",
    "ip = \"127.0.0.1\"\n",
    "port = 5510 #'faust default'\n",
    "client = SimpleUDPClient(ip, port)  # Create client\n",
    "\n",
    "for i in range(eeg_data_clean.shape[0]):\n",
    "    row = eeg_data_clean.iloc[i,:].values #prints row as array\n",
    "    time.sleep(0.1) #delay\n",
    "    for j in range(8):\n",
    "        msg_freq = \"/Brainwave_Virtual_Instrument/Synth/Channel_%d/modFreq\" % (j+1) #reads each value of a row and creates osc message with that value   \n",
    "        value_freq = (20 + ((40*int(((j+1) * 0.5)+0.5)))) + row[j]\n",
    "        client.send_message(msg_freq, value_freq )\n",
    "        #print (msg_freq, value_freq)\n",
    "'''\n",
    "    for k in range (8):\n",
    "        msg_pan = \"/BrainwaveVirtualInstrument/Synth/Channel_%d/pan\" % (k+1)\n",
    "        value_pan = (row[int(k/2)+2]) * 0.25 #scale 0.5 for 0-1 pan range, scale 0.25 for skew data values\n",
    "        client.send_message(msg_freq, value_freq )\n",
    "        #print (msg_pan, value_pan)\n",
    "'''"
   ]
  },
  {
   "cell_type": "code",
   "execution_count": null,
   "metadata": {},
   "outputs": [],
   "source": []
  },
  {
   "cell_type": "code",
   "execution_count": null,
   "metadata": {},
   "outputs": [],
   "source": []
  }
 ],
 "metadata": {
  "kernelspec": {
   "display_name": "Python 3",
   "language": "python",
   "name": "python3"
  },
  "language_info": {
   "codemirror_mode": {
    "name": "ipython",
    "version": 3
   },
   "file_extension": ".py",
   "mimetype": "text/x-python",
   "name": "python",
   "nbconvert_exporter": "python",
   "pygments_lexer": "ipython3",
   "version": "3.8.3"
  }
 },
 "nbformat": 4,
 "nbformat_minor": 4
}
